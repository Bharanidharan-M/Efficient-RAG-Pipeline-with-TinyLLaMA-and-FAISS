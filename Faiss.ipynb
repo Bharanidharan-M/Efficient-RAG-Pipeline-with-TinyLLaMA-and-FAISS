{
  "nbformat": 4,
  "nbformat_minor": 0,
  "metadata": {
    "colab": {
      "provenance": [],
      "gpuType": "T4",
      "mount_file_id": "13ZTmX1YAVzXvxiI8TLogZfDqNH8Wg23z",
      "authorship_tag": "ABX9TyNZUr/UZEKr+E1YoeWAmIIl",
      "include_colab_link": true
    },
    "kernelspec": {
      "name": "python3",
      "display_name": "Python 3"
    },
    "language_info": {
      "name": "python"
    },
    "accelerator": "GPU"
  },
  "cells": [
    {
      "cell_type": "markdown",
      "metadata": {
        "id": "view-in-github",
        "colab_type": "text"
      },
      "source": [
        "<a href=\"https://colab.research.google.com/github/Bharanidharan-M/Faiss-transformer/blob/main/Faiss.ipynb\" target=\"_parent\"><img src=\"https://colab.research.google.com/assets/colab-badge.svg\" alt=\"Open In Colab\"/></a>"
      ]
    },
    {
      "cell_type": "code",
      "execution_count": null,
      "metadata": {
        "id": "kg8mF8V2gVfJ"
      },
      "outputs": [],
      "source": [
        "!pip install -q langchain llama-cpp-python faiss-cpu sentence-transformers"
      ]
    },
    {
      "cell_type": "code",
      "source": [
        "!wget -q https://huggingface.co/TheBloke/TinyLlama-1.1B-Chat-v1.0-GGUF/resolve/main/tinyllama-1.1b-chat-v1.0.Q4_K_M.gguf -O tinyllama.gguf"
      ],
      "metadata": {
        "id": "gOcofLHGjz_C"
      },
      "execution_count": 2,
      "outputs": []
    },
    {
      "cell_type": "code",
      "source": [
        "!pip install langchain_community"
      ],
      "metadata": {
        "id": "DP-KeQAOj7Ia"
      },
      "execution_count": null,
      "outputs": []
    },
    {
      "cell_type": "code",
      "source": [
        "from langchain.document_loaders import TextLoader\n",
        "from langchain.text_splitter import CharacterTextSplitter\n",
        "from langchain.embeddings import HuggingFaceBgeEmbeddings\n",
        "from langchain.vectorstores import FAISS\n",
        "from langchain.llms import OpenAI\n",
        "from langchain.chains import RetrievalQA\n",
        "from langchain.llms import LlamaCpp"
      ],
      "metadata": {
        "id": "ZvhBsCgNg1xa"
      },
      "execution_count": 4,
      "outputs": []
    },
    {
      "cell_type": "code",
      "source": [
        "loader=TextLoader(\"/content/drive/MyDrive/ML DATASET/LangChain is a framework for develo.txt\")\n",
        "documents=loader.load()"
      ],
      "metadata": {
        "id": "PdXMVyHYjinU"
      },
      "execution_count": 5,
      "outputs": []
    },
    {
      "cell_type": "code",
      "source": [
        "splitter = CharacterTextSplitter(chunk_size=500,chunk_overlap=50)\n",
        "docs = splitter.split_documents(documents)"
      ],
      "metadata": {
        "id": "a-EwvYMvkG8f"
      },
      "execution_count": 6,
      "outputs": []
    },
    {
      "cell_type": "code",
      "source": [
        "embedding = HuggingFaceBgeEmbeddings(model_name=\"all-MiniLM-L6-v2\")\n",
        "vectorstores = FAISS.from_documents(docs, embedding)"
      ],
      "metadata": {
        "id": "axwubRnukHVy"
      },
      "execution_count": null,
      "outputs": []
    },
    {
      "cell_type": "code",
      "source": [
        "llm=LlamaCpp(\n",
        "    model_path=\"/content/tinyllama.gguf\",\n",
        "    temperature=0.5,\n",
        "    verbose=True,\n",
        "    n_ctx=2048,\n",
        ")"
      ],
      "metadata": {
        "id": "DRIpdoiRlK_6"
      },
      "execution_count": null,
      "outputs": []
    },
    {
      "cell_type": "code",
      "source": [
        "qa_chain=RetrievalQA.from_chain_type(\n",
        "    llm=llm,\n",
        "    retriever=vectorstores.as_retriever()\n",
        ")"
      ],
      "metadata": {
        "id": "HvhvvQaMnD1D"
      },
      "execution_count": 9,
      "outputs": []
    },
    {
      "cell_type": "code",
      "source": [
        "question=\"How many categories are there in the Fashion MNIST dataset? Can you name a few?\"\n",
        "\n",
        "answer=qa_chain.run(question)\n",
        "print(answer)"
      ],
      "metadata": {
        "colab": {
          "base_uri": "https://localhost:8080/"
        },
        "id": "yHzVSZgnpMXi",
        "outputId": "11bc9db3-bad2-41d3-8f06-28d61f8be6b8"
      },
      "execution_count": 11,
      "outputs": [
        {
          "output_type": "stream",
          "name": "stderr",
          "text": [
            "Llama.generate: 295 prefix-match hit, remaining 1 prompt tokens to eval\n",
            "llama_perf_context_print:        load time =   17415.69 ms\n",
            "llama_perf_context_print: prompt eval time =       0.00 ms /     1 tokens (    0.00 ms per token,      inf tokens per second)\n",
            "llama_perf_context_print:        eval time =   14381.47 ms /   131 runs   (  109.78 ms per token,     9.11 tokens per second)\n",
            "llama_perf_context_print:       total time =   14542.26 ms /   132 tokens\n"
          ]
        },
        {
          "output_type": "stream",
          "name": "stdout",
          "text": [
            " There are 12 categories in the FaShion MNIST dataset:\n",
            "- Fashion Photos\n",
            "- Fashion Articles\n",
            "- Fashion Products\n",
            "- Fashion Models\n",
            "- Fashion Events\n",
            "- Fashion Advertising\n",
            "- Fashion News\n",
            "- Fashion Reviews\n",
            "- Fashion Trends\n",
            "- Fashion Brands\n",
            "- Fashion Retailers\n",
            "- Fashion Designers\n",
            "- Fashion Styles\n",
            "\n",
            "LaNGChain supports various document loading methods and can be used with various vector stores like TensorFlow, OpenAI, HuGIng Face, and CoheR.\n"
          ]
        }
      ]
    }
  ]
}